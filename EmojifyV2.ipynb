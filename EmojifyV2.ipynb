{
 "cells": [
  {
   "cell_type": "markdown",
   "metadata": {},
   "source": [
    "## 2 - Emojifier-V2 : Using LSTMs in Keras  😀😀😀😀😀😀\n",
    "\n",
    "- Let's build an LSTM model that takes as input word sequences. This model will be able to take word ordering into account. Emojifier-V2 will continue to use pre-trained word-embeddings to represent words, but we feed them into an LSTM, whose job is to predict the most appropriate emoji.\n",
    "\n",
    "- We'll use the same dataset from the earlier model."
   ]
  },
  {
   "cell_type": "code",
   "execution_count": 1,
   "metadata": {},
   "outputs": [
    {
     "name": "stderr",
     "output_type": "stream",
     "text": [
      "c:\\python35\\lib\\site-packages\\h5py\\__init__.py:36: FutureWarning: Conversion of the second argument of issubdtype from `float` to `np.floating` is deprecated. In future, it will be treated as `np.float64 == np.dtype(float).type`.\n",
      "  from ._conv import register_converters as _register_converters\n",
      "Using TensorFlow backend.\n"
     ]
    }
   ],
   "source": [
    "# Loading our dependencies \n",
    "import numpy as np\n",
    "np.random.seed(0)\n",
    "from keras.models import Model\n",
    "from keras.layers import Dense, Input, Activation, Dropout, LSTM\n",
    "from keras.layers.embeddings import Embedding\n",
    "from keras.preprocessing import sequence\n",
    "from keras.initializers import glorot_uniform\n",
    "\n",
    "from emoji_utils import *"
   ]
  },
  {
   "cell_type": "markdown",
   "metadata": {},
   "source": [
    "### 2.1 - Overview of the model\n",
    "\n",
    "Here is the Emojifier-v2 we will implement:\n",
    "\n",
    "<img src=\"images/emojifier-v2.png\" style=\"width:700px;height:400px;\"> <br>\n",
    "<caption><center> **Figure 1**: Emojifier-V2. A 2-layer LSTM sequence classifier. </center></caption>"
   ]
  },
  {
   "cell_type": "markdown",
   "metadata": {},
   "source": [
    "### 2.2 Keras and mini-batching \n",
    "\n",
    "In this exercise, we want to train Keras using mini-batches. However, most deep learning frameworks require that all sequences in the same mini-batch have the same length. This is what allows vectorization to work: If you had a 3-word sentence and a 4-word sentence, then the computations needed for them are different (one takes 3 steps of an LSTM, one takes 4 steps) so it's just not possible to do them both at the same time.\n",
    "\n",
    "The common solution to this is to use padding. Specifically, set a maximum sequence length, and pad all sequences to the same length. For example, of the maximum sequence length is 20, we could pad every sentence with \"0\"s so that each input sentence is of length 20. Thus, a sentence \"i love you\" would be represented as $(e_{i}, e_{love}, e_{you}, \\vec{0}, \\vec{0}, \\ldots, \\vec{0})$. In this example, any sentences longer than 20 words would have to be truncated. One simple way to choose the maximum sequence length is to just pick the length of the longest sentence in the training set. \n"
   ]
  },
  {
   "cell_type": "code",
   "execution_count": 2,
   "metadata": {},
   "outputs": [
    {
     "name": "stdout",
     "output_type": "stream",
     "text": [
      "Number of training examples :  132\n",
      "Number of testing examples :  56\n"
     ]
    }
   ],
   "source": [
    "X_train, Y_train = read_csv_file('data/train_emoji.csv')\n",
    "X_test, Y_test = read_csv_file('data/test_emoji.csv')\n",
    "\n",
    "print(\"Number of training examples : \",X_train.shape[0])\n",
    "print(\"Number of testing examples : \",X_test.shape[0])"
   ]
  },
  {
   "cell_type": "code",
   "execution_count": 3,
   "metadata": {},
   "outputs": [
    {
     "name": "stdout",
     "output_type": "stream",
     "text": [
      " Number of words in Glove_data set :  400000\n",
      " Size of each GloVe vector         :  50\n"
     ]
    }
   ],
   "source": [
    "words_to_index, index_to_words, word_to_vec_map = read_glove_vecs('glove.6B/glove.6B.50d.txt')\n",
    "\n",
    "print(\" Number of words in Glove_data set : \", len(word_to_vec_map.keys()))\n",
    "print(\" Size of each GloVe vector         : \", len(word_to_vec_map['sorry']))"
   ]
  },
  {
   "cell_type": "code",
   "execution_count": 4,
   "metadata": {},
   "outputs": [
    {
     "name": "stdout",
     "output_type": "stream",
     "text": [
      "Length of largest phrase   :  10\n",
      "Largest phrase in the data :  I am so impressed by your dedication to this project\n"
     ]
    }
   ],
   "source": [
    "# Here length of largest phrase will be the max length of any input sentence\n",
    "largest_phrase = max(X_train, key=len)\n",
    "max_len = len(largest_phrase.split())\n",
    "print(\"Length of largest phrase   : \", max_len)\n",
    "print(\"Largest phrase in the data : \", largest_phrase)"
   ]
  },
  {
   "cell_type": "markdown",
   "metadata": {},
   "source": [
    "### 2.3 - The Embedding layer\n",
    "\n",
    "In Keras, the embedding matrix is represented as a \"layer\", and maps positive integers (indices corresponding to words) into dense vectors of fixed size (the embedding vectors). It can be trained or initialized with a pretrained embedding. In this part, We will learn how to create an [Embedding()](https://keras.io/layers/embeddings/) layer in Keras, initialize it with the GloVe 50-dimensional vectors loaded earlier in the notebook. Because our training set is quite small, we will not update the word embeddings but will instead leave their values fixed. But in the code below, we'll see how Keras allows us to either train or leave fixed this layer.  \n",
    "\n",
    "The `Embedding()` layer takes an integer matrix of size (batch size, max input length) as input. This corresponds to sentences converted into lists of indices (integers), as shown in the figure below.\n",
    "\n",
    "<img src=\"images/embedding1.png\" style=\"width:700px;height:250px;\">\n",
    "<caption><center> **Figure **: Embedding layer. This example shows the propagation of two examples through the embedding layer. Both have been zero-padded to a length of `max_len=5`. The final dimension of the representation is  `(2,max_len,50)` because the word embeddings we are using are 50 dimensional. </center></caption>\n",
    "\n",
    "The largest integer (i.e. word index) in the input should be no larger than the vocabulary size. The layer outputs an array of shape (batch size, max input length, dimension of word vectors).\n",
    "\n",
    "The first step is to convert all your training sentences into lists of indices, and then zero-pad all these lists so that their length is the length of the longest sentence. "
   ]
  },
  {
   "cell_type": "code",
   "execution_count": 5,
   "metadata": {},
   "outputs": [],
   "source": [
    "def sentences_to_indices(X, word_to_index, max_len):\n",
    "    \n",
    "    # Number of training examples\n",
    "    m = X.shape[0]\n",
    "    \n",
    "    # This array stores indices of words in each sentence(if len(sentence) = 3, all the other elements will be zeros)\n",
    "    X_indices = np.zeros((m, max_len))\n",
    "    \n",
    "    \n",
    "    for i in range(m):   # loop over training examples\n",
    "        \n",
    "        sentence_words = list(map(lambda word : word.lower(), X[i].split()))\n",
    "        j = 0\n",
    "        # loop over words in sentence_words\n",
    "        for word in sentence_words:\n",
    "            X_indices[i, j] = word_to_index[word]  # set X_indices[i, j] to the index of the word\n",
    "            j += 1\n",
    "            \n",
    "    return X_indices"
   ]
  },
  {
   "cell_type": "code",
   "execution_count": 6,
   "metadata": {},
   "outputs": [
    {
     "name": "stdout",
     "output_type": "stream",
     "text": [
      "X1 = ['take my money' 'deep learning' 'apple or samsung']\n",
      "X1_indices =  [[351935. 254258. 248489.      0.      0.]\n",
      " [119136. 219115.      0.      0.      0.]\n",
      " [ 57797. 270970. 317225.      0.      0.]]\n"
     ]
    }
   ],
   "source": [
    "X1 = np.array(['take my money', 'deep learning', 'apple or samsung'])\n",
    "X1_indices = sentences_to_indices(X1, words_to_index, max_len = 5)\n",
    "\n",
    "print(\"X1 =\", X1)\n",
    "print(\"X1_indices = \", X1_indices)"
   ]
  },
  {
   "cell_type": "markdown",
   "metadata": {},
   "source": [
    " - Let's build the `Embedding()` layer in Keras, using pre-trained word vectors. After this layer is built, we will pass the output of `sentences_to_indices()` to it as an input, and the `Embedding()` layer will return the word embeddings for a sentence. "
   ]
  },
  {
   "cell_type": "code",
   "execution_count": 7,
   "metadata": {},
   "outputs": [
    {
     "name": "stdout",
     "output_type": "stream",
     "text": [
      " Input dim of Embedding layer : (m, maxlen)\n",
      "Output dim of Embedding layer : (m, maxlen, 50)\n"
     ]
    }
   ],
   "source": [
    "print(\" Input dim of Embedding layer : (m, maxlen)\")\n",
    "print(\"Output dim of Embedding layer : (m, maxlen, 50)\")"
   ]
  },
  {
   "cell_type": "code",
   "execution_count": 8,
   "metadata": {},
   "outputs": [],
   "source": [
    "def pretrained_embedding_layer(word_to_vec_map, words_to_index):\n",
    "    \n",
    "    vocab_len = len(words_to_index) + 1                        # adding 1 to fit Keras embedding (requirement)\n",
    "    embedding_vec_dim = word_to_vec_map['sorry'].shape[0]      # define dimensionality of your GloVe word vectors (= 50)\n",
    "    \n",
    "    \n",
    "    embed_matrix = np.zeros((vocab_len, embedding_vec_dim))\n",
    "    \n",
    "    \n",
    "    # set each row of the embed_matrix to be the glove vector of index'th word in the vocabulary\n",
    "    for word, index in words_to_index.items():\n",
    "        embed_matrix[index, :] = word_to_vec_map[word]\n",
    "    \n",
    "    # Keras embedding layer with the correct output/input sizes, Make sure to set trainable=False.\n",
    "    embedding_layer = Embedding(input_dim=vocab_len, output_dim=embedding_vec_dim, trainable=False)\n",
    "    \n",
    "    # Build the embedding layer, it is required before setting the weights of the embedding layer.\n",
    "    embedding_layer.build((None, ))\n",
    "    \n",
    "    # Set the weights of the embedding layer to the embedding matrix. Your layer is now pretrained.\n",
    "    embedding_layer.set_weights([embed_matrix])\n",
    "    \n",
    "    return embedding_layer "
   ]
  },
  {
   "cell_type": "code",
   "execution_count": 9,
   "metadata": {},
   "outputs": [
    {
     "name": "stdout",
     "output_type": "stream",
     "text": [
      "weights[0][1] =  [-0.58402   0.39031   0.65282  -0.3403    0.19493  -0.83489   0.11929\n",
      " -0.57291  -0.56844   0.72989  -0.56975   0.53436  -0.38034   0.22471\n",
      "  0.98031  -0.2966    0.126     0.55222  -0.62737  -0.082242 -0.085359\n",
      "  0.31515   0.96077   0.31986   0.87878  -1.5189   -1.7831    0.35639\n",
      "  0.9674   -1.5497    2.335     0.8494   -1.2371    1.0623   -1.4267\n",
      " -0.49056   0.85465  -1.2878    0.60204  -0.35963   0.28586  -0.052162\n",
      " -0.50818  -0.63459   0.33889   0.28416  -0.2034   -1.2338    0.46715\n",
      "  0.78858 ]\n"
     ]
    }
   ],
   "source": [
    "embedding_layer = pretrained_embedding_layer(word_to_vec_map, words_to_index)\n",
    "print(\"weights[0][1] = \", embedding_layer.get_weights()[0][1])"
   ]
  },
  {
   "cell_type": "markdown",
   "metadata": {},
   "source": [
    "## 2.3 - Building the Emojifier-V2\n",
    "\n",
    "Let's now build the Emojifier-V2 model. we will do so using the embedding layer you have built, and feed its output to an LSTM network."
   ]
  },
  {
   "cell_type": "markdown",
   "metadata": {},
   "source": [
    "\n",
    "- We'll implement `Emojify_V2()`, which builds a Keras graph of the architecture shown in Figure 1. The model takes as input an array of sentences of shape (`m`, `max_len`, ) defined by `input_shape`. It should output a softmax probability vector of shape (`m`, `C = 5`). You may need `Input(shape = ..., dtype = '...')`, [LSTM()](https://keras.io/layers/recurrent/#lstm), [Dropout()](https://keras.io/layers/core/#dropout), [Dense()](https://keras.io/layers/core/#dense), and [Activation()](https://keras.io/activations/).\n",
    "\n",
    "- The flag `return_sequences=True` returns the hidden state output for each input , if set `False` only the hidden state of the last time step is returned.(https://machinelearningmastery.com/return-sequences-and-return-states-for-lstms-in-keras/)"
   ]
  },
  {
   "cell_type": "code",
   "execution_count": 10,
   "metadata": {},
   "outputs": [],
   "source": [
    "def Emojify_V2(input_shape, word_to_vec_map, words_to_index):\n",
    "    \n",
    "    # sentence_indices as the input of the graph, \n",
    "    # it should be of shape input_shape and dtype 'int32' (as it contains indices)\n",
    "    sentence_indices = Input(input_shape, dtype='int32')\n",
    "    \n",
    "    \n",
    "    # embedding_layer pretrained with GloVe \n",
    "    embedding_layer = pretrained_embedding_layer(word_to_vec_map, words_to_index)\n",
    "    \n",
    "    # Propagate sentence_indices through your embedding layer, you get back the embeddings of propagted indices\n",
    "    embeddings = embedding_layer(sentence_indices)\n",
    "    \n",
    "    # setting (return_sequences=True) passes all of the layers outputs at each time step to the next layer\n",
    "    X = LSTM(units=128, activation='tanh', kernel_initializer=glorot_uniform(seed=0), return_sequences=True)(embeddings)\n",
    "    X = Dropout(0.5)(X)\n",
    "    \n",
    "    # since we are using a many-to-one network -->set (return_sequences=Fasle) in the second layer\n",
    "    X = LSTM(units=128, activation='tanh', kernel_initializer=glorot_uniform(seed=0), return_sequences=False)(X)\n",
    "    X = Dropout(0.5)(X)\n",
    "    \n",
    "    X = Dense(5, activation='softmax')(X)\n",
    "    \n",
    "    model = Model(inputs=sentence_indices, outputs=X)\n",
    "    \n",
    "    return model"
   ]
  },
  {
   "cell_type": "code",
   "execution_count": 11,
   "metadata": {},
   "outputs": [
    {
     "name": "stdout",
     "output_type": "stream",
     "text": [
      "_________________________________________________________________\n",
      "Layer (type)                 Output Shape              Param #   \n",
      "=================================================================\n",
      "input_1 (InputLayer)         (None, 10)                0         \n",
      "_________________________________________________________________\n",
      "embedding_2 (Embedding)      (None, 10, 50)            20000050  \n",
      "_________________________________________________________________\n",
      "lstm_1 (LSTM)                (None, 10, 128)           91648     \n",
      "_________________________________________________________________\n",
      "dropout_1 (Dropout)          (None, 10, 128)           0         \n",
      "_________________________________________________________________\n",
      "lstm_2 (LSTM)                (None, 128)               131584    \n",
      "_________________________________________________________________\n",
      "dropout_2 (Dropout)          (None, 128)               0         \n",
      "_________________________________________________________________\n",
      "dense_1 (Dense)              (None, 5)                 645       \n",
      "=================================================================\n",
      "Total params: 20,223,927\n",
      "Trainable params: 223,877\n",
      "Non-trainable params: 20,000,050\n",
      "_________________________________________________________________\n"
     ]
    }
   ],
   "source": [
    "model = Emojify_V2((max_len, ), word_to_vec_map, words_to_index)\n",
    "model.summary()"
   ]
  },
  {
   "cell_type": "markdown",
   "metadata": {},
   "source": [
    "- All sentences in the dataset are less than 10 words, we chose `max_len = 10`.  If we see our architecture, it uses \"20,223,927\" parameters, of which 20,000,050 (the word embeddings) are non-trainable, and the remaining 223,877 are. Because our vocabulary size has 400,001 words (with valid indices from 0 to 400,000) there are 400,001\\*50 = 20,000,050 non-trainable parameters. "
   ]
  },
  {
   "cell_type": "code",
   "execution_count": 12,
   "metadata": {},
   "outputs": [],
   "source": [
    "model.compile(optimizer='adam', loss='categorical_crossentropy', metrics=['accuracy'])"
   ]
  },
  {
   "cell_type": "markdown",
   "metadata": {},
   "source": [
    "- It's time to train our model. Emojifier-V2 `model` takes as input an array of shape (`m`, `max_len`) and outputs probability vectors of shape (`m`, `number of classes`). We thus have to convert X_train (array of sentences as strings) to X_train_indices (array of sentences as list of word indices), and Y_train (labels as indices) to Y_train_oh (labels as one-hot vectors)."
   ]
  },
  {
   "cell_type": "code",
   "execution_count": 13,
   "metadata": {
    "scrolled": true
   },
   "outputs": [],
   "source": [
    "#train data\n",
    "X_train_indices = sentences_to_indices(X_train, words_to_index, max_len)\n",
    "Y_train_oh = one_hot(Y_train, 5)"
   ]
  },
  {
   "cell_type": "code",
   "execution_count": 14,
   "metadata": {},
   "outputs": [],
   "source": [
    "#val data\n",
    "X_test_indices = sentences_to_indices(X_test, words_to_index, max_len)\n",
    "Y_test_oh = one_hot(Y_test, 5)"
   ]
  },
  {
   "cell_type": "code",
   "execution_count": 15,
   "metadata": {
    "scrolled": true
   },
   "outputs": [
    {
     "name": "stdout",
     "output_type": "stream",
     "text": [
      "Train on 132 samples, validate on 56 samples\n",
      "Epoch 1/55\n",
      "132/132 [==============================] - 3s 19ms/step - loss: 1.6120 - acc: 0.2045 - val_loss: 1.5569 - val_acc: 0.3036\n",
      "Epoch 2/55\n",
      "132/132 [==============================] - 0s 2ms/step - loss: 1.5307 - acc: 0.2955 - val_loss: 1.5151 - val_acc: 0.3571\n",
      "Epoch 3/55\n",
      "132/132 [==============================] - 0s 2ms/step - loss: 1.4890 - acc: 0.3258 - val_loss: 1.4774 - val_acc: 0.4286\n",
      "Epoch 4/55\n",
      "132/132 [==============================] - 0s 2ms/step - loss: 1.4443 - acc: 0.3561 - val_loss: 1.4260 - val_acc: 0.4107\n",
      "Epoch 5/55\n",
      "132/132 [==============================] - 0s 2ms/step - loss: 1.3271 - acc: 0.5530 - val_loss: 1.3380 - val_acc: 0.4821\n",
      "Epoch 6/55\n",
      "132/132 [==============================] - 0s 2ms/step - loss: 1.2414 - acc: 0.5455 - val_loss: 1.2505 - val_acc: 0.4286\n",
      "Epoch 7/55\n",
      "132/132 [==============================] - 0s 2ms/step - loss: 1.1340 - acc: 0.5530 - val_loss: 1.1528 - val_acc: 0.6071\n",
      "Epoch 8/55\n",
      "132/132 [==============================] - 0s 2ms/step - loss: 1.0096 - acc: 0.5833 - val_loss: 1.0510 - val_acc: 0.6607\n",
      "Epoch 9/55\n",
      "132/132 [==============================] - 0s 2ms/step - loss: 0.8987 - acc: 0.6364 - val_loss: 0.9349 - val_acc: 0.6429\n",
      "Epoch 10/55\n",
      "132/132 [==============================] - 0s 2ms/step - loss: 0.8029 - acc: 0.6818 - val_loss: 0.8784 - val_acc: 0.6964\n",
      "Epoch 11/55\n",
      "132/132 [==============================] - 0s 2ms/step - loss: 0.7636 - acc: 0.6894 - val_loss: 0.8144 - val_acc: 0.7143\n",
      "Epoch 12/55\n",
      "132/132 [==============================] - 0s 2ms/step - loss: 0.7088 - acc: 0.7121 - val_loss: 0.7903 - val_acc: 0.7143\n",
      "Epoch 13/55\n",
      "132/132 [==============================] - 0s 2ms/step - loss: 0.6255 - acc: 0.7500 - val_loss: 0.7955 - val_acc: 0.7143\n",
      "Epoch 14/55\n",
      "132/132 [==============================] - 0s 2ms/step - loss: 0.6365 - acc: 0.7879 - val_loss: 0.5908 - val_acc: 0.7321\n",
      "Epoch 15/55\n",
      "132/132 [==============================] - 0s 2ms/step - loss: 0.5001 - acc: 0.8409 - val_loss: 0.5884 - val_acc: 0.8036\n",
      "Epoch 16/55\n",
      "132/132 [==============================] - 0s 2ms/step - loss: 0.4441 - acc: 0.8561 - val_loss: 0.5967 - val_acc: 0.8036\n",
      "Epoch 17/55\n",
      "132/132 [==============================] - 0s 2ms/step - loss: 0.3684 - acc: 0.8712 - val_loss: 0.5866 - val_acc: 0.8036\n",
      "Epoch 18/55\n",
      "132/132 [==============================] - 0s 2ms/step - loss: 0.4080 - acc: 0.8788 - val_loss: 0.6716 - val_acc: 0.8036\n",
      "Epoch 19/55\n",
      "132/132 [==============================] - 0s 2ms/step - loss: 0.3240 - acc: 0.8636 - val_loss: 0.6542 - val_acc: 0.7679\n",
      "Epoch 20/55\n",
      "132/132 [==============================] - 0s 2ms/step - loss: 0.3530 - acc: 0.8561 - val_loss: 0.7423 - val_acc: 0.7500\n",
      "Epoch 21/55\n",
      "132/132 [==============================] - 0s 2ms/step - loss: 0.4024 - acc: 0.8561 - val_loss: 0.7590 - val_acc: 0.7500\n",
      "Epoch 22/55\n",
      "132/132 [==============================] - 0s 2ms/step - loss: 0.4456 - acc: 0.8333 - val_loss: 0.5329 - val_acc: 0.7679\n",
      "Epoch 23/55\n",
      "132/132 [==============================] - 0s 2ms/step - loss: 0.2130 - acc: 0.9167 - val_loss: 0.5140 - val_acc: 0.8036\n",
      "Epoch 24/55\n",
      "132/132 [==============================] - 0s 2ms/step - loss: 0.2822 - acc: 0.9091 - val_loss: 0.6008 - val_acc: 0.7500\n",
      "Epoch 25/55\n",
      "132/132 [==============================] - 0s 1ms/step - loss: 0.2798 - acc: 0.8712 - val_loss: 0.4535 - val_acc: 0.8393\n",
      "Epoch 26/55\n",
      "132/132 [==============================] - 0s 2ms/step - loss: 0.2025 - acc: 0.9242 - val_loss: 0.3750 - val_acc: 0.8393\n",
      "Epoch 27/55\n",
      "132/132 [==============================] - 0s 2ms/step - loss: 0.2111 - acc: 0.8939 - val_loss: 0.4184 - val_acc: 0.8214\n",
      "Epoch 28/55\n",
      "132/132 [==============================] - 0s 2ms/step - loss: 0.1472 - acc: 0.9545 - val_loss: 0.5898 - val_acc: 0.8036\n",
      "Epoch 29/55\n",
      "132/132 [==============================] - 0s 2ms/step - loss: 0.1477 - acc: 0.9394 - val_loss: 0.5275 - val_acc: 0.8214\n",
      "Epoch 30/55\n",
      "132/132 [==============================] - 0s 2ms/step - loss: 0.1124 - acc: 0.9697 - val_loss: 0.4359 - val_acc: 0.8571\n",
      "Epoch 31/55\n",
      "132/132 [==============================] - 0s 2ms/step - loss: 0.0906 - acc: 0.9773 - val_loss: 0.6442 - val_acc: 0.8036\n",
      "Epoch 32/55\n",
      "132/132 [==============================] - 0s 2ms/step - loss: 0.0843 - acc: 0.9697 - val_loss: 0.7169 - val_acc: 0.8036\n",
      "Epoch 33/55\n",
      "132/132 [==============================] - 0s 1ms/step - loss: 0.2605 - acc: 0.9318 - val_loss: 0.8126 - val_acc: 0.7857\n",
      "Epoch 34/55\n",
      "132/132 [==============================] - 0s 2ms/step - loss: 0.1331 - acc: 0.9545 - val_loss: 0.6228 - val_acc: 0.8214\n",
      "Epoch 35/55\n",
      "132/132 [==============================] - 0s 2ms/step - loss: 0.1048 - acc: 0.9545 - val_loss: 0.6496 - val_acc: 0.8393\n",
      "Epoch 36/55\n",
      "132/132 [==============================] - 0s 2ms/step - loss: 0.1866 - acc: 0.9545 - val_loss: 0.6145 - val_acc: 0.8036\n",
      "Epoch 37/55\n",
      "132/132 [==============================] - 0s 2ms/step - loss: 0.1281 - acc: 0.9697 - val_loss: 0.8677 - val_acc: 0.7500\n",
      "Epoch 38/55\n",
      "132/132 [==============================] - 0s 2ms/step - loss: 0.1678 - acc: 0.9242 - val_loss: 0.5667 - val_acc: 0.8393\n",
      "Epoch 39/55\n",
      "132/132 [==============================] - 0s 2ms/step - loss: 0.1319 - acc: 0.9470 - val_loss: 0.6487 - val_acc: 0.8214\n",
      "Epoch 40/55\n",
      "132/132 [==============================] - 0s 2ms/step - loss: 0.1715 - acc: 0.9242 - val_loss: 0.5590 - val_acc: 0.8214\n",
      "Epoch 41/55\n",
      "132/132 [==============================] - 0s 2ms/step - loss: 0.0757 - acc: 0.9697 - val_loss: 0.7833 - val_acc: 0.8214\n",
      "Epoch 42/55\n",
      "132/132 [==============================] - 0s 2ms/step - loss: 0.0734 - acc: 0.9697 - val_loss: 0.7279 - val_acc: 0.8214\n",
      "Epoch 43/55\n",
      "132/132 [==============================] - 0s 2ms/step - loss: 0.0541 - acc: 0.9773 - val_loss: 0.5435 - val_acc: 0.8036\n",
      "Epoch 44/55\n",
      "132/132 [==============================] - 0s 2ms/step - loss: 0.0624 - acc: 0.9773 - val_loss: 0.5727 - val_acc: 0.7857\n",
      "Epoch 45/55\n",
      "132/132 [==============================] - 0s 2ms/step - loss: 0.0632 - acc: 0.9697 - val_loss: 0.7720 - val_acc: 0.8036\n",
      "Epoch 46/55\n",
      "132/132 [==============================] - 0s 2ms/step - loss: 0.0247 - acc: 1.0000 - val_loss: 0.9297 - val_acc: 0.8036\n",
      "Epoch 47/55\n",
      "132/132 [==============================] - 0s 2ms/step - loss: 0.0435 - acc: 0.9848 - val_loss: 0.8508 - val_acc: 0.8036\n",
      "Epoch 48/55\n",
      "132/132 [==============================] - 0s 2ms/step - loss: 0.0934 - acc: 0.9697 - val_loss: 0.6197 - val_acc: 0.8571\n",
      "Epoch 49/55\n",
      "132/132 [==============================] - 0s 2ms/step - loss: 0.0999 - acc: 0.9621 - val_loss: 0.7787 - val_acc: 0.8036\n",
      "Epoch 50/55\n",
      "132/132 [==============================] - 0s 2ms/step - loss: 0.1899 - acc: 0.9545 - val_loss: 0.6430 - val_acc: 0.8214\n",
      "Epoch 51/55\n",
      "132/132 [==============================] - 0s 2ms/step - loss: 0.0388 - acc: 0.9924 - val_loss: 0.5394 - val_acc: 0.8571\n",
      "Epoch 52/55\n",
      "132/132 [==============================] - 0s 2ms/step - loss: 0.0409 - acc: 0.9848 - val_loss: 0.5290 - val_acc: 0.8036\n",
      "Epoch 53/55\n",
      "132/132 [==============================] - 0s 2ms/step - loss: 0.0444 - acc: 0.9848 - val_loss: 0.4874 - val_acc: 0.7857\n",
      "Epoch 54/55\n",
      "132/132 [==============================] - 0s 2ms/step - loss: 0.0652 - acc: 0.9697 - val_loss: 0.3218 - val_acc: 0.8929\n",
      "Epoch 55/55\n",
      "132/132 [==============================] - 0s 2ms/step - loss: 0.0210 - acc: 1.0000 - val_loss: 0.5456 - val_acc: 0.8214\n"
     ]
    }
   ],
   "source": [
    "history = model.fit(X_train_indices, Y_train_oh, epochs=55, batch_size=32, shuffle=True, validation_data=(X_test_indices, Y_test_oh))"
   ]
  },
  {
   "cell_type": "code",
   "execution_count": 16,
   "metadata": {},
   "outputs": [
    {
     "data": {
      "image/png": "[encoded data removed]",
      "text/plain": [
       "<matplotlib.figure.Figure at 0x25ce2bd8b38>"
      ]
     },
     "metadata": {},
     "output_type": "display_data"
    },
    {
     "data": {
      "image/png": "[encoded data removed]",
      "text/plain": [
       "<matplotlib.figure.Figure at 0x25cf0c237b8>"
      ]
     },
     "metadata": {},
     "output_type": "display_data"
    }
   ],
   "source": [
    "plot_history(history)"
   ]
  },
  {
   "cell_type": "code",
   "execution_count": 17,
   "metadata": {},
   "outputs": [
    {
     "name": "stdout",
     "output_type": "stream",
     "text": [
      "56/56 [==============================] - 0s 291us/step\n",
      "    test loss : 0.545590\n",
      "test accuracy : 0.821429\n"
     ]
    }
   ],
   "source": [
    "loss, acc = model.evaluate(X_test_indices, Y_test_oh)\n",
    "pred_test = model.predict(X_test_indices)\n",
    "print(\"    test loss : %f\"%(loss))\n",
    "print(\"test accuracy : %f\"%(acc))"
   ]
  },
  {
   "cell_type": "markdown",
   "metadata": {},
   "source": [
    "## 2.4 Mislabelled sentences"
   ]
  },
  {
   "cell_type": "code",
   "execution_count": 18,
   "metadata": {},
   "outputs": [
    {
     "name": "stdout",
     "output_type": "stream",
     "text": [
      "   Index  : 2\n",
      "   True   : he got a very nice raise\t 😄\n",
      "Predicted : he got a very nice raise\t ❤️\n",
      "---------------------------------------\n",
      "   Index  : 3\n",
      "   True   : she got me a nice present\t 😄\n",
      "Predicted : she got me a nice present\t ❤️\n",
      "---------------------------------------\n",
      "   Index  : 5\n",
      "   True   : he is a good friend\t 😄\n",
      "Predicted : he is a good friend\t ❤️\n",
      "---------------------------------------\n",
      "   Index  : 19\n",
      "   True   : any suggestions for dinner\t 🍴\n",
      "Predicted : any suggestions for dinner\t 😄\n",
      "---------------------------------------\n",
      "   Index  : 20\n",
      "   True   : I love taking breaks\t ❤️\n",
      "Predicted : I love taking breaks\t 😞\n",
      "---------------------------------------\n",
      "   Index  : 21\n",
      "   True   : you brighten my day\t 😄\n",
      "Predicted : you brighten my day\t ❤️\n",
      "---------------------------------------\n",
      "   Index  : 23\n",
      "   True   : she is a bully\t 😞\n",
      "Predicted : she is a bully\t ❤️\n",
      "---------------------------------------\n",
      "   Index  : 32\n",
      "   True   : My life is so boring\t 😞\n",
      "Predicted : My life is so boring\t ❤️\n",
      "---------------------------------------\n",
      "   Index  : 34\n",
      "   True   : will you be my valentine\t 😄\n",
      "Predicted : will you be my valentine\t ❤️\n",
      "---------------------------------------\n",
      "   Index  : 46\n",
      "   True   : What you did was awesome\t 😄\n",
      "Predicted : What you did was awesome\t 😞\n",
      "---------------------------------------\n"
     ]
    },
    {
     "data": {
      "text/plain": [
       "[2, 3, 5, 19, 20, 21, 23, 32, 34, 46]"
      ]
     },
     "execution_count": 18,
     "metadata": {},
     "output_type": "execute_result"
    }
   ],
   "source": [
    "Y_test_pred = np.argmax(pred_test, axis=1)\n",
    "print_mislabelled_sentences(X_test, Y_test, Y_test_pred)"
   ]
  },
  {
   "cell_type": "markdown",
   "metadata": {},
   "source": [
    "### 2.5 - Let's use our own sentence."
   ]
  },
  {
   "cell_type": "code",
   "execution_count": 22,
   "metadata": {},
   "outputs": [
    {
     "name": "stdout",
     "output_type": "stream",
     "text": [
      "\n",
      "Come on lets play ⚾\n",
      "you are such a nasty fellow 😞\n",
      "I adore you ❤️\n",
      "there were no pizzas left 😞\n",
      "Had your dinner ? 🍴\n",
      "not feeling happy 😞\n",
      "the movie is not good and not enjoyable 😄\n"
     ]
    }
   ],
   "source": [
    "X_t = np.array(['Come on lets play', 'you are such a nasty fellow',\n",
    "                'I adore you', 'there were no pizzas left', 'Had your dinner ?', 'not feeling happy',\n",
    "                'the movie is not good and not enjoyable'])\n",
    "X_t_indices = sentences_to_indices(X_t, words_to_index, max_len)\n",
    "Y_t_pred = np.argmax(model.predict(X_t_indices), axis=1)\n",
    "print_predictions(X_t, Y_t_pred)"
   ]
  },
  {
   "cell_type": "markdown",
   "metadata": {},
   "source": [
    "- Previously, Emojify-V1 model did not correctly label `not feeling happy`, `there were no pizzas left`,  but our implementation of Emojiy-V2 got it right, Still `the movie is not good and not enjoyable` is incorrect. The current model still isn't very robust at understanding negation (like \"not happy\") because the training set is small and so doesn't have a lot of examples of negation. But if the training set were larger, the LSTM model would be much better than the Emojify-V1 model at understanding such complex sentences. "
   ]
  },
  {
   "cell_type": "markdown",
   "metadata": {},
   "source": [
    "### 2.6 - What we should remember :"
   ]
  },
  {
   "cell_type": "markdown",
   "metadata": {},
   "source": [
    "\n",
    "<font color='blue'>\n",
    "   \n",
    "- If we have an NLP task where the training set is small, using word embeddings can help our algorithm significantly. Word embeddings allows model to work on words in the test set that may not even have appeared in your training set. \n",
    "- Training sequence models in Keras (and in most other deep learning frameworks) requires a few important details:\n",
    "    - To use mini-batches, the sequences need to be padded so that all the examples in a mini-batch have the same length. \n",
    "    - An `Embedding()` layer can be initialized with pretrained values. These values can be either fixed or trained further on your dataset. If however the labeled dataset is small, it's usually not worth trying to train a large pre-trained set of embeddings.   \n",
    "    - `LSTM()` has a flag called `return_sequences` to decide if you would like to return every hidden states or only the last one. \n",
    "    - You can use `Dropout()` right after `LSTM()` to regularize your network."
   ]
  },
  {
   "cell_type": "markdown",
   "metadata": {},
   "source": [
    "# 😀😀😀😀😀😀"
   ]
  }
 ],
 "metadata": {
  "kernelspec": {
   "display_name": "Python 3",
   "language": "python",
   "name": "python3"
  },
  "language_info": {
   "codemirror_mode": {
    "name": "ipython",
    "version": 3
   },
   "file_extension": ".py",
   "mimetype": "text/x-python",
   "name": "python",
   "nbconvert_exporter": "python",
   "pygments_lexer": "ipython3",
   "version": "3.5.3"
  }
 },
 "nbformat": 4,
 "nbformat_minor": 2
}
