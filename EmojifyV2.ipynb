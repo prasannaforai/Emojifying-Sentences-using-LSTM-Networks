{
 "cells": [
  {
   "cell_type": "markdown",
   "metadata": {},
   "source": [
    "## 2 - Emojifier-V2 : Using LSTMs in Keras  😀😀😀😀😀😀\n",
    "\n",
    "- Let's build an LSTM model that takes as input word sequences. This model will be able to take word ordering into account. Emojifier-V2 will continue to use pre-trained word-embeddings to represent words, but we feed them into an LSTM, whose job is to predict the most appropriate emoji.\n",
    "\n",
    "- We'll use the same dataset from the earlier model."
   ]
  },
  {
   "cell_type": "code",
   "execution_count": 1,
   "metadata": {},
   "outputs": [
    {
     "name": "stderr",
     "output_type": "stream",
     "text": [
      "c:\\python35\\lib\\site-packages\\h5py\\__init__.py:36: FutureWarning: Conversion of the second argument of issubdtype from `float` to `np.floating` is deprecated. In future, it will be treated as `np.float64 == np.dtype(float).type`.\n",
      "  from ._conv import register_converters as _register_converters\n",
      "Using TensorFlow backend.\n"
     ]
    }
   ],
   "source": [
    "# Loading our dependencies \n",
    "import numpy as np\n",
    "np.random.seed(0)\n",
    "from keras.models import Model\n",
    "from keras.layers import Dense, Input, Activation, Dropout, LSTM\n",
    "from keras.layers.embeddings import Embedding\n",
    "from keras.preprocessing import sequence\n",
    "from keras.initializers import glorot_uniform\n",
    "\n",
    "from emoji_utils import *"
   ]
  },
  {
   "cell_type": "markdown",
   "metadata": {},
   "source": [
    "### 2.1 - Overview of the model\n",
    "\n",
    "Here is the Emojifier-v2 we will implement:\n",
    "\n",
    "<img src=\"images/emojifier-v2.png\" style=\"width:700px;height:400px;\"> <br>\n",
    "<caption><center> **Figure 1**: Emojifier-V2. A 2-layer LSTM sequence classifier. </center></caption>"
   ]
  },
  {
   "cell_type": "markdown",
   "metadata": {},
   "source": [
    "### 2.2 Keras and mini-batching \n",
    "\n",
    "In this exercise, we want to train Keras using mini-batches. However, most deep learning frameworks require that all sequences in the same mini-batch have the same length. This is what allows vectorization to work: If you had a 3-word sentence and a 4-word sentence, then the computations needed for them are different (one takes 3 steps of an LSTM, one takes 4 steps) so it's just not possible to do them both at the same time.\n",
    "\n",
    "The common solution to this is to use padding. Specifically, set a maximum sequence length, and pad all sequences to the same length. For example, of the maximum sequence length is 20, we could pad every sentence with \"0\"s so that each input sentence is of length 20. Thus, a sentence \"i love you\" would be represented as $(e_{i}, e_{love}, e_{you}, \\vec{0}, \\vec{0}, \\ldots, \\vec{0})$. In this example, any sentences longer than 20 words would have to be truncated. One simple way to choose the maximum sequence length is to just pick the length of the longest sentence in the training set. \n"
   ]
  },
  {
   "cell_type": "code",
   "execution_count": 2,
   "metadata": {},
   "outputs": [
    {
     "name": "stdout",
     "output_type": "stream",
     "text": [
      "Number of training examples :  132\n",
      "Number of testing examples :  56\n"
     ]
    }
   ],
   "source": [
    "X_train, Y_train = read_csv_file('data/train_emoji.csv')\n",
    "X_test, Y_test = read_csv_file('data/test_emoji.csv')\n",
    "\n",
    "print(\"Number of training examples : \",X_train.shape[0])\n",
    "print(\"Number of testing examples : \",X_test.shape[0])"
   ]
  },
  {
   "cell_type": "code",
   "execution_count": 3,
   "metadata": {},
   "outputs": [
    {
     "name": "stdout",
     "output_type": "stream",
     "text": [
      " Number of words in Glove_data set :  400000\n",
      " Size of each GloVe vector         :  50\n"
     ]
    }
   ],
   "source": [
    "words_to_index, index_to_words, word_to_vec_map = read_glove_vecs('glove.6B/glove.6B.50d.txt')\n",
    "\n",
    "print(\" Number of words in Glove_data set : \", len(word_to_vec_map.keys()))\n",
    "print(\" Size of each GloVe vector         : \", len(word_to_vec_map['sorry']))"
   ]
  },
  {
   "cell_type": "code",
   "execution_count": 4,
   "metadata": {},
   "outputs": [
    {
     "name": "stdout",
     "output_type": "stream",
     "text": [
      "Length of largest phrase   :  10\n",
      "Largest phrase in the data :  I am so impressed by your dedication to this project\n"
     ]
    }
   ],
   "source": [
    "# Here length of largest phrase will be the max length of any input sentence\n",
    "largest_phrase = max(X_train, key=len)\n",
    "max_len = len(largest_phrase.split())\n",
    "print(\"Length of largest phrase   : \", max_len)\n",
    "print(\"Largest phrase in the data : \", largest_phrase)"
   ]
  },
  {
   "cell_type": "markdown",
   "metadata": {},
   "source": [
    "### 2.3 - The Embedding layer\n",
    "\n",
    "In Keras, the embedding matrix is represented as a \"layer\", and maps positive integers (indices corresponding to words) into dense vectors of fixed size (the embedding vectors). It can be trained or initialized with a pretrained embedding. In this part, We will learn how to create an [Embedding()](https://keras.io/layers/embeddings/) layer in Keras, initialize it with the GloVe 50-dimensional vectors loaded earlier in the notebook. Because our training set is quite small, we will not update the word embeddings but will instead leave their values fixed. But in the code below, we'll see how Keras allows us to either train or leave fixed this layer.  \n",
    "\n",
    "The `Embedding()` layer takes an integer matrix of size (batch size, max input length) as input. This corresponds to sentences converted into lists of indices (integers), as shown in the figure below.\n",
    "\n",
    "<img src=\"images/embedding1.png\" style=\"width:700px;height:250px;\">\n",
    "<caption><center> **Figure **: Embedding layer. This example shows the propagation of two examples through the embedding layer. Both have been zero-padded to a length of `max_len=5`. The final dimension of the representation is  `(2,max_len,50)` because the word embeddings we are using are 50 dimensional. </center></caption>\n",
    "\n",
    "The largest integer (i.e. word index) in the input should be no larger than the vocabulary size. The layer outputs an array of shape (batch size, max input length, dimension of word vectors).\n",
    "\n",
    "The first step is to convert all your training sentences into lists of indices, and then zero-pad all these lists so that their length is the length of the longest sentence. "
   ]
  },
  {
   "cell_type": "code",
   "execution_count": 5,
   "metadata": {},
   "outputs": [],
   "source": [
    "def sentences_to_indices(X, word_to_index, max_len):\n",
    "    \n",
    "    # Number of training examples\n",
    "    m = X.shape[0]\n",
    "    \n",
    "    # This array stores indices of words in each sentence(if len(sentence) = 3, all the other elements will be zeros)\n",
    "    X_indices = np.zeros((m, max_len))\n",
    "    \n",
    "    \n",
    "    for i in range(m):   # loop over training examples\n",
    "        \n",
    "        sentence_words = list(map(lambda word : word.lower(), X[i].split()))\n",
    "        j = 0\n",
    "        # loop over words in sentence_words\n",
    "        for word in sentence_words:\n",
    "            X_indices[i, j] = word_to_index[word]  # set X_indices[i, j] to the index of the word\n",
    "            j += 1\n",
    "            \n",
    "    return X_indices"
   ]
  },
  {
   "cell_type": "code",
   "execution_count": 6,
   "metadata": {},
   "outputs": [
    {
     "name": "stdout",
     "output_type": "stream",
     "text": [
      "X1 = ['take my money' 'deep learning' 'apple or samsung']\n",
      "X1_indices =  [[351935. 254258. 248489.      0.      0.]\n",
      " [119136. 219115.      0.      0.      0.]\n",
      " [ 57797. 270970. 317225.      0.      0.]]\n"
     ]
    }
   ],
   "source": [
    "X1 = np.array(['take my money', 'deep learning', 'apple or samsung'])\n",
    "X1_indices = sentences_to_indices(X1, words_to_index, max_len = 5)\n",
    "\n",
    "print(\"X1 =\", X1)\n",
    "print(\"X1_indices = \", X1_indices)"
   ]
  },
  {
   "cell_type": "markdown",
   "metadata": {},
   "source": [
    " - Let's build the `Embedding()` layer in Keras, using pre-trained word vectors. After this layer is built, we will pass the output of `sentences_to_indices()` to it as an input, and the `Embedding()` layer will return the word embeddings for a sentence. "
   ]
  },
  {
   "cell_type": "code",
   "execution_count": 7,
   "metadata": {},
   "outputs": [
    {
     "name": "stdout",
     "output_type": "stream",
     "text": [
      " Input dim of Embedding layer : (m, maxlen)\n",
      "Output dim of Embedding layer : (m, maxlen, 50)\n"
     ]
    }
   ],
   "source": [
    "print(\" Input dim of Embedding layer : (m, maxlen)\")\n",
    "print(\"Output dim of Embedding layer : (m, maxlen, 50)\")"
   ]
  },
  {
   "cell_type": "code",
   "execution_count": 8,
   "metadata": {},
   "outputs": [],
   "source": [
    "def pretrained_embedding_layer(word_to_vec_map, words_to_index):\n",
    "    \n",
    "    vocab_len = len(words_to_index) + 1                        # adding 1 to fit Keras embedding (requirement)\n",
    "    embedding_vec_dim = word_to_vec_map['sorry'].shape[0]      # define dimensionality of your GloVe word vectors (= 50)\n",
    "    \n",
    "    \n",
    "    embed_matrix = np.zeros((vocab_len, embedding_vec_dim))\n",
    "    \n",
    "    \n",
    "    # set each row of the embed_matrix to be the glove vector of index'th word in the vocabulary\n",
    "    for word, index in words_to_index.items():\n",
    "        embed_matrix[index, :] = word_to_vec_map[word]\n",
    "    \n",
    "    # Keras embedding layer with the correct output/input sizes, Make sure to set trainable=False.\n",
    "    embedding_layer = Embedding(input_dim=vocab_len, output_dim=embedding_vec_dim, trainable=False)\n",
    "    \n",
    "    # Build the embedding layer, it is required before setting the weights of the embedding layer.\n",
    "    embedding_layer.build((None, ))\n",
    "    \n",
    "    # Set the weights of the embedding layer to the embedding matrix. Your layer is now pretrained.\n",
    "    embedding_layer.set_weights([embed_matrix])\n",
    "    \n",
    "    return embedding_layer "
   ]
  },
  {
   "cell_type": "code",
   "execution_count": 9,
   "metadata": {},
   "outputs": [
    {
     "name": "stdout",
     "output_type": "stream",
     "text": [
      "weights[0][1] =  [-0.58402   0.39031   0.65282  -0.3403    0.19493  -0.83489   0.11929\n",
      " -0.57291  -0.56844   0.72989  -0.56975   0.53436  -0.38034   0.22471\n",
      "  0.98031  -0.2966    0.126     0.55222  -0.62737  -0.082242 -0.085359\n",
      "  0.31515   0.96077   0.31986   0.87878  -1.5189   -1.7831    0.35639\n",
      "  0.9674   -1.5497    2.335     0.8494   -1.2371    1.0623   -1.4267\n",
      " -0.49056   0.85465  -1.2878    0.60204  -0.35963   0.28586  -0.052162\n",
      " -0.50818  -0.63459   0.33889   0.28416  -0.2034   -1.2338    0.46715\n",
      "  0.78858 ]\n"
     ]
    }
   ],
   "source": [
    "embedding_layer = pretrained_embedding_layer(word_to_vec_map, words_to_index)\n",
    "print(\"weights[0][1] = \", embedding_layer.get_weights()[0][1])"
   ]
  },
  {
   "cell_type": "markdown",
   "metadata": {},
   "source": [
    "## 2.3 - Building the Emojifier-V2\n",
    "\n",
    "Let's now build the Emojifier-V2 model. we will do so using the embedding layer you have built, and feed its output to an LSTM network."
   ]
  },
  {
   "cell_type": "markdown",
   "metadata": {},
   "source": [
    "\n",
    "- We'll implement `Emojify_V2()`, which builds a Keras graph of the architecture shown in Figure 1. The model takes as input an array of sentences of shape (`m`, `max_len`, ) defined by `input_shape`. It should output a softmax probability vector of shape (`m`, `C = 5`). You may need `Input(shape = ..., dtype = '...')`, [LSTM()](https://keras.io/layers/recurrent/#lstm), [Dropout()](https://keras.io/layers/core/#dropout), [Dense()](https://keras.io/layers/core/#dense), and [Activation()](https://keras.io/activations/)."
   ]
  },
  {
   "cell_type": "code",
   "execution_count": 143,
   "metadata": {},
   "outputs": [],
   "source": [
    "def Emojify_V2(input_shape, word_to_vec_map, words_to_index):\n",
    "    \n",
    "    # sentence_indices as the input of the graph, \n",
    "    # it should be of shape input_shape and dtype 'int32' (as it contains indices)\n",
    "    sentence_indices = Input(input_shape, dtype='int32')\n",
    "    \n",
    "    \n",
    "    # embedding_layer pretrained with GloVe \n",
    "    embedding_layer = pretrained_embedding_layer(word_to_vec_map, words_to_index)\n",
    "    \n",
    "    # Propagate sentence_indices through your embedding layer, you get back the embeddings of propagted indices\n",
    "    embeddings = embedding_layer(sentence_indices)\n",
    "    \n",
    "    # re\n",
    "    X = LSTM(units=128, activation='tanh', kernel_initializer=glorot_uniform(seed=0), return_sequences=True)(embeddings)\n",
    "    X = Dropout(0.5)(X)\n",
    "    \n",
    "    X = LSTM(units=128, activation='tanh', kernel_initializer=glorot_uniform(seed=0), return_sequences=False)(X)\n",
    "    X = Dropout(0.5)(X)\n",
    "    \n",
    "    X = Dense(5, activation='softmax')(X)\n",
    "    #X = Activation('softmax')(X)\n",
    "    \n",
    "    model = Model(inputs=sentence_indices, outputs=X)\n",
    "    \n",
    "    return model"
   ]
  },
  {
   "cell_type": "code",
   "execution_count": 144,
   "metadata": {},
   "outputs": [
    {
     "name": "stdout",
     "output_type": "stream",
     "text": [
      "_________________________________________________________________\n",
      "Layer (type)                 Output Shape              Param #   \n",
      "=================================================================\n",
      "input_14 (InputLayer)        (None, 10)                0         \n",
      "_________________________________________________________________\n",
      "embedding_15 (Embedding)     (None, 10, 50)            20000050  \n",
      "_________________________________________________________________\n",
      "lstm_24 (LSTM)               (None, 10, 128)           91648     \n",
      "_________________________________________________________________\n",
      "dropout_24 (Dropout)         (None, 10, 128)           0         \n",
      "_________________________________________________________________\n",
      "lstm_25 (LSTM)               (None, 128)               131584    \n",
      "_________________________________________________________________\n",
      "dropout_25 (Dropout)         (None, 128)               0         \n",
      "_________________________________________________________________\n",
      "dense_14 (Dense)             (None, 5)                 645       \n",
      "=================================================================\n",
      "Total params: 20,223,927\n",
      "Trainable params: 223,877\n",
      "Non-trainable params: 20,000,050\n",
      "_________________________________________________________________\n"
     ]
    }
   ],
   "source": [
    "model = Emojify_V2((max_len, ), word_to_vec_map, words_to_index)\n",
    "model.summary()"
   ]
  },
  {
   "cell_type": "markdown",
   "metadata": {},
   "source": [
    "- All sentences in the dataset are less than 10 words, we chose `max_len = 10`.  If we see our architecture, it uses \"20,223,927\" parameters, of which 20,000,050 (the word embeddings) are non-trainable, and the remaining 223,877 are. Because our vocabulary size has 400,001 words (with valid indices from 0 to 400,000) there are 400,001\\*50 = 20,000,050 non-trainable parameters. "
   ]
  },
  {
   "cell_type": "code",
   "execution_count": 145,
   "metadata": {},
   "outputs": [],
   "source": [
    "model.compile(optimizer='adadelta', loss='categorical_crossentropy', metrics=['accuracy'])"
   ]
  },
  {
   "cell_type": "markdown",
   "metadata": {},
   "source": [
    "- It's time to train our model. Emojifier-V2 `model` takes as input an array of shape (`m`, `max_len`) and outputs probability vectors of shape (`m`, `number of classes`). We thus have to convert X_train (array of sentences as strings) to X_train_indices (array of sentences as list of word indices), and Y_train (labels as indices) to Y_train_oh (labels as one-hot vectors)."
   ]
  },
  {
   "cell_type": "code",
   "execution_count": 146,
   "metadata": {
    "scrolled": true
   },
   "outputs": [],
   "source": [
    "X_train_indices = sentences_to_indices(X_train, words_to_index, max_len)\n",
    "Y_train_oh = one_hot(Y_train, 5)"
   ]
  },
  {
   "cell_type": "code",
   "execution_count": 147,
   "metadata": {
    "scrolled": true
   },
   "outputs": [
    {
     "name": "stdout",
     "output_type": "stream",
     "text": [
      "Train on 132 samples, validate on 56 samples\n",
      "Epoch 1/80\n",
      "132/132 [==============================] - 3s 26ms/step - loss: 1.5897 - acc: 0.2424 - val_loss: 1.5615 - val_acc: 0.2857\n",
      "Epoch 2/80\n",
      "132/132 [==============================] - 1s 4ms/step - loss: 1.5665 - acc: 0.2803 - val_loss: 1.5455 - val_acc: 0.3036\n",
      "Epoch 3/80\n",
      "132/132 [==============================] - 1s 4ms/step - loss: 1.5469 - acc: 0.2727 - val_loss: 1.5365 - val_acc: 0.3036\n",
      "Epoch 4/80\n",
      "132/132 [==============================] - 0s 3ms/step - loss: 1.5230 - acc: 0.3258 - val_loss: 1.5172 - val_acc: 0.3036\n",
      "Epoch 5/80\n",
      "132/132 [==============================] - 1s 4ms/step - loss: 1.4980 - acc: 0.2955 - val_loss: 1.5063 - val_acc: 0.3036\n",
      "Epoch 6/80\n",
      "132/132 [==============================] - 1s 6ms/step - loss: 1.5042 - acc: 0.3409 - val_loss: 1.4887 - val_acc: 0.3393\n",
      "Epoch 7/80\n",
      "132/132 [==============================] - 0s 3ms/step - loss: 1.4834 - acc: 0.3788 - val_loss: 1.4658 - val_acc: 0.3750\n",
      "Epoch 8/80\n",
      "132/132 [==============================] - 1s 5ms/step - loss: 1.4496 - acc: 0.3788 - val_loss: 1.4408 - val_acc: 0.4821\n",
      "Epoch 9/80\n",
      "132/132 [==============================] - 0s 3ms/step - loss: 1.4031 - acc: 0.4773 - val_loss: 1.4246 - val_acc: 0.5357\n",
      "Epoch 10/80\n",
      "132/132 [==============================] - 0s 3ms/step - loss: 1.3431 - acc: 0.5833 - val_loss: 1.3695 - val_acc: 0.5714\n",
      "Epoch 11/80\n",
      "132/132 [==============================] - 0s 3ms/step - loss: 1.2730 - acc: 0.5909 - val_loss: 1.3172 - val_acc: 0.5536\n",
      "Epoch 12/80\n",
      "132/132 [==============================] - 0s 3ms/step - loss: 1.2516 - acc: 0.5152 - val_loss: 1.2790 - val_acc: 0.5714\n",
      "Epoch 13/80\n",
      "132/132 [==============================] - 1s 4ms/step - loss: 1.1785 - acc: 0.6061 - val_loss: 1.2156 - val_acc: 0.5536\n",
      "Epoch 14/80\n",
      "132/132 [==============================] - 1s 5ms/step - loss: 1.1418 - acc: 0.5682 - val_loss: 1.1605 - val_acc: 0.6429\n",
      "Epoch 15/80\n",
      "132/132 [==============================] - 1s 4ms/step - loss: 1.1071 - acc: 0.5833 - val_loss: 1.4090 - val_acc: 0.3214\n",
      "Epoch 16/80\n",
      "132/132 [==============================] - 0s 4ms/step - loss: 1.1153 - acc: 0.5909 - val_loss: 1.1830 - val_acc: 0.5357\n",
      "Epoch 17/80\n",
      "132/132 [==============================] - 1s 4ms/step - loss: 1.0337 - acc: 0.5833 - val_loss: 1.0730 - val_acc: 0.5714\n",
      "Epoch 18/80\n",
      "132/132 [==============================] - 1s 4ms/step - loss: 0.9668 - acc: 0.6515 - val_loss: 1.1289 - val_acc: 0.5179\n",
      "Epoch 19/80\n",
      "132/132 [==============================] - 1s 5ms/step - loss: 0.9295 - acc: 0.6591 - val_loss: 1.0097 - val_acc: 0.6250\n",
      "Epoch 20/80\n",
      "132/132 [==============================] - 1s 4ms/step - loss: 0.9018 - acc: 0.6439 - val_loss: 0.9287 - val_acc: 0.6429\n",
      "Epoch 21/80\n",
      "132/132 [==============================] - 0s 4ms/step - loss: 0.8368 - acc: 0.6818 - val_loss: 0.9672 - val_acc: 0.6429\n",
      "Epoch 22/80\n",
      "132/132 [==============================] - 1s 4ms/step - loss: 0.8563 - acc: 0.6515 - val_loss: 0.8968 - val_acc: 0.6607\n",
      "Epoch 23/80\n",
      "132/132 [==============================] - 1s 4ms/step - loss: 0.7260 - acc: 0.7197 - val_loss: 0.9828 - val_acc: 0.5714\n",
      "Epoch 24/80\n",
      "132/132 [==============================] - 0s 3ms/step - loss: 0.7195 - acc: 0.7273 - val_loss: 0.7737 - val_acc: 0.6964\n",
      "Epoch 25/80\n",
      "132/132 [==============================] - 0s 3ms/step - loss: 0.6799 - acc: 0.7500 - val_loss: 0.8878 - val_acc: 0.6250\n",
      "Epoch 26/80\n",
      "132/132 [==============================] - 1s 4ms/step - loss: 0.8023 - acc: 0.7273 - val_loss: 1.1159 - val_acc: 0.5179\n",
      "Epoch 27/80\n",
      "132/132 [==============================] - 0s 3ms/step - loss: 0.7910 - acc: 0.6970 - val_loss: 1.2104 - val_acc: 0.5536\n",
      "Epoch 28/80\n",
      "132/132 [==============================] - 1s 4ms/step - loss: 0.7883 - acc: 0.7273 - val_loss: 0.7280 - val_acc: 0.7143\n",
      "Epoch 29/80\n",
      "132/132 [==============================] - 1s 5ms/step - loss: 0.6298 - acc: 0.8030 - val_loss: 0.6785 - val_acc: 0.7500\n",
      "Epoch 30/80\n",
      "132/132 [==============================] - 0s 3ms/step - loss: 0.5631 - acc: 0.8106 - val_loss: 0.6972 - val_acc: 0.7321\n",
      "Epoch 31/80\n",
      "132/132 [==============================] - 1s 5ms/step - loss: 0.5554 - acc: 0.8182 - val_loss: 0.7562 - val_acc: 0.6964\n",
      "Epoch 32/80\n",
      "132/132 [==============================] - 1s 4ms/step - loss: 0.5268 - acc: 0.8030 - val_loss: 0.6183 - val_acc: 0.7321\n",
      "Epoch 33/80\n",
      "132/132 [==============================] - 1s 5ms/step - loss: 0.5237 - acc: 0.8258 - val_loss: 0.5593 - val_acc: 0.7500\n",
      "Epoch 34/80\n",
      "132/132 [==============================] - 1s 4ms/step - loss: 0.4846 - acc: 0.8030 - val_loss: 0.6716 - val_acc: 0.7143\n",
      "Epoch 35/80\n",
      "132/132 [==============================] - 0s 3ms/step - loss: 0.4903 - acc: 0.8106 - val_loss: 1.5930 - val_acc: 0.4464\n",
      "Epoch 36/80\n",
      "132/132 [==============================] - 0s 3ms/step - loss: 0.8239 - acc: 0.7197 - val_loss: 0.6002 - val_acc: 0.7143\n",
      "Epoch 37/80\n",
      "132/132 [==============================] - 1s 4ms/step - loss: 0.4737 - acc: 0.8485 - val_loss: 1.1009 - val_acc: 0.5179\n",
      "Epoch 38/80\n",
      "132/132 [==============================] - 1s 4ms/step - loss: 0.5937 - acc: 0.7576 - val_loss: 0.5578 - val_acc: 0.8036\n",
      "Epoch 39/80\n",
      "132/132 [==============================] - 1s 5ms/step - loss: 0.4601 - acc: 0.8561 - val_loss: 0.8621 - val_acc: 0.6429\n",
      "Epoch 40/80\n",
      "132/132 [==============================] - 1s 4ms/step - loss: 0.5539 - acc: 0.8106 - val_loss: 0.8172 - val_acc: 0.6786\n",
      "Epoch 41/80\n",
      "132/132 [==============================] - 1s 5ms/step - loss: 0.4950 - acc: 0.8409 - val_loss: 0.6626 - val_acc: 0.7143\n",
      "Epoch 42/80\n",
      "132/132 [==============================] - 0s 4ms/step - loss: 0.4605 - acc: 0.8258 - val_loss: 0.5502 - val_acc: 0.7679\n",
      "Epoch 43/80\n",
      "132/132 [==============================] - 0s 4ms/step - loss: 0.3450 - acc: 0.8788 - val_loss: 0.5257 - val_acc: 0.7679\n",
      "Epoch 44/80\n",
      "132/132 [==============================] - 0s 3ms/step - loss: 0.2923 - acc: 0.9318 - val_loss: 0.7415 - val_acc: 0.7143\n",
      "Epoch 45/80\n",
      "132/132 [==============================] - 1s 5ms/step - loss: 0.4042 - acc: 0.8409 - val_loss: 1.1335 - val_acc: 0.6250\n",
      "Epoch 46/80\n",
      "132/132 [==============================] - 1s 4ms/step - loss: 0.5933 - acc: 0.7955 - val_loss: 0.5414 - val_acc: 0.8036\n",
      "Epoch 47/80\n",
      "132/132 [==============================] - 0s 3ms/step - loss: 0.3808 - acc: 0.8712 - val_loss: 0.6418 - val_acc: 0.7143\n",
      "Epoch 48/80\n",
      "132/132 [==============================] - 0s 3ms/step - loss: 0.3904 - acc: 0.8561 - val_loss: 0.3758 - val_acc: 0.8393\n",
      "Epoch 49/80\n",
      "132/132 [==============================] - 0s 4ms/step - loss: 0.2676 - acc: 0.9091 - val_loss: 0.9349 - val_acc: 0.6786\n",
      "Epoch 50/80\n",
      "132/132 [==============================] - 0s 3ms/step - loss: 0.4472 - acc: 0.8636 - val_loss: 0.4162 - val_acc: 0.8571\n",
      "Epoch 51/80\n",
      "132/132 [==============================] - 0s 3ms/step - loss: 0.2254 - acc: 0.9470 - val_loss: 0.7376 - val_acc: 0.7321\n",
      "Epoch 52/80\n",
      "132/132 [==============================] - 1s 4ms/step - loss: 0.3751 - acc: 0.8485 - val_loss: 0.4074 - val_acc: 0.8393\n",
      "Epoch 53/80\n",
      "132/132 [==============================] - 1s 4ms/step - loss: 0.2384 - acc: 0.9015 - val_loss: 0.6432 - val_acc: 0.7500\n",
      "Epoch 54/80\n",
      "132/132 [==============================] - 0s 3ms/step - loss: 0.2331 - acc: 0.9242 - val_loss: 0.6241 - val_acc: 0.7321\n",
      "Epoch 55/80\n",
      "132/132 [==============================] - 1s 4ms/step - loss: 0.2376 - acc: 0.9167 - val_loss: 0.4742 - val_acc: 0.8036\n",
      "Epoch 56/80\n",
      "132/132 [==============================] - 1s 5ms/step - loss: 0.2790 - acc: 0.8939 - val_loss: 0.7592 - val_acc: 0.7679\n",
      "Epoch 57/80\n",
      "132/132 [==============================] - 0s 3ms/step - loss: 0.4971 - acc: 0.8333 - val_loss: 0.4138 - val_acc: 0.8214\n",
      "Epoch 58/80\n",
      "132/132 [==============================] - 1s 4ms/step - loss: 0.2060 - acc: 0.9318 - val_loss: 0.4850 - val_acc: 0.8393\n",
      "Epoch 59/80\n",
      "132/132 [==============================] - 0s 3ms/step - loss: 0.2291 - acc: 0.9167 - val_loss: 0.4321 - val_acc: 0.8036\n",
      "Epoch 60/80\n",
      "132/132 [==============================] - 0s 4ms/step - loss: 0.2874 - acc: 0.8636 - val_loss: 0.8471 - val_acc: 0.7321\n",
      "Epoch 61/80\n",
      "132/132 [==============================] - 1s 5ms/step - loss: 0.3384 - acc: 0.9091 - val_loss: 1.2248 - val_acc: 0.6071\n",
      "Epoch 62/80\n"
     ]
    },
    {
     "name": "stdout",
     "output_type": "stream",
     "text": [
      "132/132 [==============================] - 1s 4ms/step - loss: 0.4528 - acc: 0.8636 - val_loss: 0.3709 - val_acc: 0.8214\n",
      "Epoch 63/80\n",
      "132/132 [==============================] - 0s 3ms/step - loss: 0.1839 - acc: 0.9394 - val_loss: 0.4104 - val_acc: 0.8214\n",
      "Epoch 64/80\n",
      "132/132 [==============================] - 0s 3ms/step - loss: 0.2145 - acc: 0.9167 - val_loss: 0.5960 - val_acc: 0.8036\n",
      "Epoch 65/80\n",
      "132/132 [==============================] - 1s 4ms/step - loss: 0.2180 - acc: 0.9242 - val_loss: 0.8102 - val_acc: 0.7500\n",
      "Epoch 66/80\n",
      "132/132 [==============================] - 1s 4ms/step - loss: 0.2178 - acc: 0.9242 - val_loss: 0.4139 - val_acc: 0.8214\n",
      "Epoch 67/80\n",
      "132/132 [==============================] - 0s 3ms/step - loss: 0.1398 - acc: 0.9545 - val_loss: 0.7029 - val_acc: 0.7857\n",
      "Epoch 68/80\n",
      "132/132 [==============================] - 0s 3ms/step - loss: 0.3385 - acc: 0.8788 - val_loss: 0.6796 - val_acc: 0.7679\n",
      "Epoch 69/80\n",
      "132/132 [==============================] - 1s 4ms/step - loss: 0.1661 - acc: 0.9318 - val_loss: 0.5091 - val_acc: 0.8393\n",
      "Epoch 70/80\n",
      "132/132 [==============================] - 1s 5ms/step - loss: 0.2108 - acc: 0.9318 - val_loss: 0.4732 - val_acc: 0.8036\n",
      "Epoch 71/80\n",
      "132/132 [==============================] - 1s 5ms/step - loss: 0.1342 - acc: 0.9621 - val_loss: 0.4185 - val_acc: 0.8393\n",
      "Epoch 72/80\n",
      "132/132 [==============================] - 0s 3ms/step - loss: 0.1917 - acc: 0.9318 - val_loss: 0.4471 - val_acc: 0.8214\n",
      "Epoch 73/80\n",
      "132/132 [==============================] - 0s 4ms/step - loss: 0.1073 - acc: 0.9773 - val_loss: 0.5723 - val_acc: 0.8036\n",
      "Epoch 74/80\n",
      "132/132 [==============================] - 0s 3ms/step - loss: 0.1515 - acc: 0.9697 - val_loss: 0.5077 - val_acc: 0.8036\n",
      "Epoch 75/80\n",
      "132/132 [==============================] - 1s 4ms/step - loss: 0.1080 - acc: 0.9697 - val_loss: 0.5645 - val_acc: 0.7857\n",
      "Epoch 76/80\n",
      "132/132 [==============================] - 1s 4ms/step - loss: 0.0947 - acc: 0.9924 - val_loss: 0.4743 - val_acc: 0.8036\n",
      "Epoch 77/80\n",
      "132/132 [==============================] - 0s 3ms/step - loss: 0.1211 - acc: 0.9621 - val_loss: 0.8898 - val_acc: 0.7679\n",
      "Epoch 78/80\n",
      "132/132 [==============================] - 1s 4ms/step - loss: 0.1849 - acc: 0.9394 - val_loss: 0.4984 - val_acc: 0.7679\n",
      "Epoch 79/80\n",
      "132/132 [==============================] - 1s 5ms/step - loss: 0.1638 - acc: 0.9621 - val_loss: 0.4918 - val_acc: 0.8036\n",
      "Epoch 80/80\n",
      "132/132 [==============================] - 0s 3ms/step - loss: 0.0740 - acc: 0.9848 - val_loss: 0.4519 - val_acc: 0.8393\n"
     ]
    },
    {
     "data": {
      "text/plain": [
       "<keras.callbacks.History at 0x256e22ecdd8>"
      ]
     },
     "execution_count": 147,
     "metadata": {},
     "output_type": "execute_result"
    }
   ],
   "source": [
    "model.fit(X_train_indices, Y_train_oh, epochs=80, batch_size=32, shuffle=True, validation_data=(X_test_indices, Y_test_oh))"
   ]
  },
  {
   "cell_type": "code",
   "execution_count": 122,
   "metadata": {},
   "outputs": [],
   "source": [
    "X_test_indices = sentences_to_indices(X_test, words_to_index, max_len)\n",
    "Y_test_oh = one_hot(Y_test, 5)"
   ]
  },
  {
   "cell_type": "code",
   "execution_count": 148,
   "metadata": {},
   "outputs": [
    {
     "name": "stdout",
     "output_type": "stream",
     "text": [
      "56/56 [==============================] - 0s 557us/step\n",
      "    test loss :  0.45188488704817636\n",
      "test accuracy :  0.8392857142857143\n"
     ]
    }
   ],
   "source": [
    "loss, acc = model.evaluate(X_test_indices, Y_test_oh)\n",
    "pred_test = model.predict(X_test_indices)\n",
    "print(\"    test loss : \", loss)\n",
    "print(\"test accuracy : \", acc)"
   ]
  },
  {
   "cell_type": "markdown",
   "metadata": {},
   "source": [
    "## 2.4 Mislabelled sentences"
   ]
  },
  {
   "cell_type": "code",
   "execution_count": 149,
   "metadata": {},
   "outputs": [
    {
     "name": "stdout",
     "output_type": "stream",
     "text": [
      "   Index  : 3\n",
      "   True   : she got me a nice present\t 😄\n",
      "Predicted : she got me a nice present\t ❤️\n",
      "---------------------------------------\n",
      "   Index  : 11\n",
      "   True   : work is hard\t 😞\n",
      "Predicted : work is hard\t 😄\n",
      "---------------------------------------\n",
      "   Index  : 12\n",
      "   True   : This girl is messing with me\t 😞\n",
      "Predicted : This girl is messing with me\t ❤️\n",
      "---------------------------------------\n",
      "   Index  : 19\n",
      "   True   : any suggestions for dinner\t 🍴\n",
      "Predicted : any suggestions for dinner\t 😄\n",
      "---------------------------------------\n",
      "   Index  : 21\n",
      "   True   : you brighten my day\t 😄\n",
      "Predicted : you brighten my day\t ❤️\n",
      "---------------------------------------\n",
      "   Index  : 23\n",
      "   True   : she is a bully\t 😞\n",
      "Predicted : she is a bully\t ❤️\n",
      "---------------------------------------\n",
      "   Index  : 34\n",
      "   True   : will you be my valentine\t 😄\n",
      "Predicted : will you be my valentine\t ❤️\n",
      "---------------------------------------\n",
      "   Index  : 49\n",
      "   True   : go away\t 😞\n",
      "Predicted : go away\t ⚾\n",
      "---------------------------------------\n",
      "   Index  : 55\n",
      "   True   : I did not have breakfast  🍴\n",
      "Predicted : I did not have breakfast  ❤️\n",
      "---------------------------------------\n"
     ]
    },
    {
     "data": {
      "text/plain": [
       "[3, 11, 12, 19, 21, 23, 34, 49, 55]"
      ]
     },
     "execution_count": 149,
     "metadata": {},
     "output_type": "execute_result"
    }
   ],
   "source": [
    "Y_test_pred = np.argmax(pred_test, axis=1)\n",
    "print_mislabelled_sentences(X_test, Y_test, Y_test_pred)"
   ]
  },
  {
   "cell_type": "markdown",
   "metadata": {},
   "source": [
    "### 2.5 - Let's use our own sentence."
   ]
  },
  {
   "cell_type": "code",
   "execution_count": 150,
   "metadata": {},
   "outputs": [
    {
     "name": "stdout",
     "output_type": "stream",
     "text": [
      "\n",
      "Come on lets play ⚾\n",
      "you are such a nasty fellow 😞\n",
      "I adore you ❤️\n",
      "there were no pizzas left 😞\n",
      "Had your dinner ? ❤️\n",
      "not feeling happy 😞\n",
      "the movie is not good and not enjoyable 😄\n"
     ]
    }
   ],
   "source": [
    "X_t = np.array(['Come on lets play', 'you are such a nasty fellow',\n",
    "                'I adore you', 'there were no pizzas left', 'Had your dinner ?', 'not feeling happy',\n",
    "                'the movie is not good and not enjoyable'])\n",
    "X_t_indices = sentences_to_indices(X_t, words_to_index, max_len)\n",
    "Y_t_pred = np.argmax(model.predict(X_t_indices), axis=1)\n",
    "print_predictions(X_t, Y_t_pred)"
   ]
  },
  {
   "cell_type": "markdown",
   "metadata": {},
   "source": [
    "- Previously, Emojify-V1 model did not correctly label `not feeling happy`, `there were no pizzas left`,  but our implementation of Emojiy-V2 got it right, Still `the movie is not good and not enjoyable` is incorrect. The current model still isn't very robust at understanding negation (like \"not happy\") because the training set is small and so doesn't have a lot of examples of negation. But if the training set were larger, the LSTM model would be much better than the Emojify-V1 model at understanding such complex sentences. "
   ]
  },
  {
   "cell_type": "markdown",
   "metadata": {},
   "source": [
    "### 2.6 - What we should remember :"
   ]
  },
  {
   "cell_type": "markdown",
   "metadata": {},
   "source": [
    "\n",
    "<font color='blue'>\n",
    "   \n",
    "- If we have an NLP task where the training set is small, using word embeddings can help our algorithm significantly. Word embeddings allows model to work on words in the test set that may not even have appeared in your training set. \n",
    "- Training sequence models in Keras (and in most other deep learning frameworks) requires a few important details:\n",
    "    - To use mini-batches, the sequences need to be padded so that all the examples in a mini-batch have the same length. \n",
    "    - An `Embedding()` layer can be initialized with pretrained values. These values can be either fixed or trained further on your dataset. If however the labeled dataset is small, it's usually not worth trying to train a large pre-trained set of embeddings.   \n",
    "    - `LSTM()` has a flag called `return_sequences` to decide if you would like to return every hidden states or only the last one. \n",
    "    - You can use `Dropout()` right after `LSTM()` to regularize your network."
   ]
  },
  {
   "cell_type": "markdown",
   "metadata": {},
   "source": [
    "# 😀😀😀😀😀😀"
   ]
  }
 ],
 "metadata": {
  "kernelspec": {
   "display_name": "Python 3",
   "language": "python",
   "name": "python3"
  },
  "language_info": {
   "codemirror_mode": {
    "name": "ipython",
    "version": 3
   },
   "file_extension": ".py",
   "mimetype": "text/x-python",
   "name": "python",
   "nbconvert_exporter": "python",
   "pygments_lexer": "ipython3",
   "version": "3.5.3"
  }
 },
 "nbformat": 4,
 "nbformat_minor": 2
}
